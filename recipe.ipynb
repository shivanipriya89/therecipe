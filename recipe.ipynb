{
 "cells": [
  {
   "cell_type": "markdown",
   "id": "ab46fabc-e355-4f43-bf86-234db42876cb",
   "metadata": {},
   "source": [
    " Python Program of Recipe Creator and Manager"
   ]
  },
  {
   "cell_type": "code",
   "execution_count": 19,
   "id": "ad36fae5-3815-4794-a5ac-0cfdbc358d88",
   "metadata": {},
   "outputs": [],
   "source": [
    "#1-Create a recipe class with ingredients and a put them in a recipe manager program that organizes them into categories like deserts, \n",
    "#main courses or by ingredients like chicken, beef, soups, pies etc."
   ]
  },
  {
   "cell_type": "code",
   "execution_count": 20,
   "id": "1cda5934-13e2-4b3c-a213-a3653ffd218d",
   "metadata": {},
   "outputs": [],
   "source": [
    "import requests"
   ]
  },
  {
   "cell_type": "code",
   "execution_count": 21,
   "id": "b28ba1ee-2969-4a23-81d0-6b58f1c25842",
   "metadata": {},
   "outputs": [],
   "source": [
    "import bs4"
   ]
  },
  {
   "cell_type": "code",
   "execution_count": 22,
   "id": "48f129cf-e052-4619-ba7a-59d10561533c",
   "metadata": {},
   "outputs": [
    {
     "name": "stdout",
     "output_type": "stream",
     "text": [
      "Recipe class created!\n",
      "Initialization of Recipe class\n"
     ]
    }
   ],
   "source": [
    "class recipe():\n",
    "    print(\"Recipe class created!\")\n",
    "    def __init__(self):\n",
    "        print(\"Initialization of Recipe class\")\n",
    "    def deserts(self):\n",
    "        print(\"Different types of Deserts\")\n",
    "        choice=int(input(\"Enter any value from 1 to 4: \"))\n",
    "        if choice==1:\n",
    "            print(\"Available cakes are:\")\n",
    "            l=[\"cheese cake-100Rs\",\"pineapple cake-150rs\",\"strawberry cake-130rs\",\"fruit cake 90 rs\",\"chocolate cake-250rs\",\"vanilla cake- 90rs\"]\n",
    "            for i in l:\n",
    "                print(i)\n",
    "             # Viewing the cakes \n",
    "            import requests\n",
    "            import bs4\n",
    "            url=\"https://whyzee.com.sg/wp-content/uploads/2022/02/image001.jpg\"\n",
    "            print(\"Click on below mentioned link for viewing the cakes\")\n",
    "            print(url)\n",
    "        elif choice==2:\n",
    "            print(\"Available cookies are:\")\n",
    "            l=[\"Peanut Butter- 60 rs\",\"Oatmeal raisin- 90rs\",\"Shortbread cookies- 60 rs\",\"Gingerbread-100rs\",\"Sugar-70rs\",\"Butter-120rs\",\"Red Velvet-140rs\"]\n",
    "            for i in l:\n",
    "                print(i)\n",
    "            print(\"Click on the below mentioned link for viewing the cookies\")\n",
    "            url=\"https://nypost.com/wp-content/uploads/sites/2/2023/10/cookies-vday-lead.jpg?resize=1064,709&quality=75&strip=all\"\n",
    "            print(url)\n",
    "        elif choice==3:\n",
    "            print(\"Available icecreams are:\")\n",
    "            l=[\"chocolate-70rs\",\"vanilla-60rs\",\"strawberry-90rs\",\"fruit-50rs\",\"butter-scotch-110rs\",\"mango-90rs\",\"blueberry-130rs\"]\n",
    "            for i in l:\n",
    "                print(i)\n",
    "            print(\"Click on below mentioned link to view the icecream\")\n",
    "            url=\"https://t4.ftcdn.net/jpg/04/37/21/95/240_F_437219552_rykpZ7eVCDLrdN8QEI6KiTeXoSpe7Bno.jpg\"\n",
    "            print(url)\n",
    "        elif choice==4:\n",
    "            print(\"Available custards are:\")\n",
    "            l=[\"baked custard-110rs\",\"stirred custard-100rs\",\"steamed custard-120rs\"]\n",
    "            for i in l:\n",
    "                print(i)\n",
    "            print(\"Click on below mentioned link to view the custard\")\n",
    "            url=\"https://i0.wp.com/polkapuffs.in/wp-content/uploads/2020/09/Fruit-custard-final-2-1.jpeg\"\n",
    "            print(url)\n",
    "        else:\n",
    "             print(\"Invalid choice!\")\n",
    "    def main_course(self):\n",
    "        print(\"Main Course\")\n",
    "        choice=int(input(\"Enter any value from 1 to 5:\"))\n",
    "        if choice==1:\n",
    "            print(\"Chickens Available\")\n",
    "            l=[\"Chilly Chicken-110rs\",\"Butter Chicken-120rs\",\"Chicken Gravy-70rs\",\"Chicken Manchurian-100rs\",\"Dry Chicken-140rs\"]\n",
    "            for i in l:\n",
    "                print(i)\n",
    "            print(\"Click on below mentioned link for viewing chicken\")\n",
    "            url=\"https://www.yummytummyaarthi.com/wp-content/uploads/2022/06/chicken-gravy-1.jpeg\"\n",
    "            print(url)\n",
    "        elif choice==2:\n",
    "            print(\"Different Types of Beefs are:\")\n",
    "            l=[\"chuck-130rs\",\"rib-150rs\",\"loin-110rs\",\"round-70rs\",\"flank-80rs\",\"plate-90rs\",\"brisket-140rs\",\"shank-190rs\"]\n",
    "            for i in l:\n",
    "                print(i)\n",
    "            print(\"Click on the below mentioned link for viewing the beefs:\")\n",
    "            url=\"https://embed.widencdn.net/img/beef/lwh0bfs3nr/1120x840px/Butcher%201026.jpg?keep=c&u=nvwl20\"\n",
    "            print(url)\n",
    "        elif choice==3:\n",
    "            print(\"Available soups are:\")\n",
    "            l=[\"Tomato Soup-90rs\",\"Vegetable Soup-110rs\",\"Munchow Soup-130rs\",\"Sweet Corn Soup-140rs\",\"Chicken Soup-160rs\"]\n",
    "            for i in l:\n",
    "                print(i)\n",
    "            print(\"Click on below mentioned link for viewing the soups:\")\n",
    "            url1=\"https://www.inspiredtaste.net/wp-content/uploads/2018/10/Homemade-Vegetable-Soup-Recipe-1-1200.jpg\"\n",
    "            url2=\"https://geekrobocook.com/wp-content/uploads/2021/03/1.-Cream-of-Tomato-Soup.jpg\"\n",
    "            print(url1)\n",
    "            print(url2)\n",
    "        elif choice==4:\n",
    "            print(\"Different Types of Breads are :\")\n",
    "            l=[\"Plain Nan-50rs\",\"Butter Nan-60rs\",\"Garlic Nan-70rs\",\"Tandoori Roti-80rs\"]\n",
    "            for i in l:\n",
    "                print(i)\n",
    "            print(\"Click on the below mentioned links for viewing the types of breads\")\n",
    "            url1=\"https://admin.bagsy.in/storage/34948/maxresdefault.jpg\"\n",
    "            url2=\"https://i.ytimg.com/vi/Iw1mTLDq7_Q/maxresdefault.jpg\"\n",
    "            url3=\"https://i2.wp.com/www.flavoursonplate.com/wp-content/uploads/2019/03/Garlic-butter-naan.jpg?w=1200&ssl=1\"\n",
    "            print(url1)\n",
    "            print(url2)\n",
    "            print(url3)\n",
    "        elif choice==5:\n",
    "            print(\"List of Rices:\")\n",
    "            l=[\"Plain Rice-60rs\",\"Jira Rice-80rs\",\" Veg Biriyani-90rs\",\"Non Veg Biriyani-120rs\",\"Mix Fried Rice-110rs\",\"Steamed Rice-60rs\"]\n",
    "            for i in l:\n",
    "                print(i)\n",
    "            print(\"Click on below mentioned link for viewing the rice\")\n",
    "            url1=\"https://bigoven-res.cloudinary.com/image/upload/h_320,w_320,c_fill/plain-white-rice-f7391e.jpg\"\n",
    "            url2=\"https://upload.wikimedia.org/wikipedia/commons/f/fe/Chicken_Biryani.jpg\"\n",
    "            url3=\"https://i.ytimg.com/vi/Do7ZdUodDdw/maxresdefault.jpg\"\n",
    "            print(url1)\n",
    "            print(url2)\n",
    "            print(url3)\n",
    "        else:\n",
    "            print(\"Invalid choice\")\n",
    "            \n",
    "            \n",
    "            \n",
    "            \n",
    "            \n",
    "        \n",
    "        \n",
    "        \n",
    "    \n",
    "                \n",
    "        \n",
    "            \n",
    "                \n",
    "            \n",
    "        \n",
    "            \n",
    "            \n",
    "        \n",
    "        \n",
    "            \n",
    "r=recipe()\n"
   ]
  },
  {
   "cell_type": "markdown",
   "id": "a6c24ea8-f250-49e7-84f7-694e44c67ff6",
   "metadata": {},
   "source": [
    "Function call of Deserts"
   ]
  },
  {
   "cell_type": "code",
   "execution_count": 23,
   "id": "c5141337-8569-402b-8dbd-b1b929cfd74f",
   "metadata": {},
   "outputs": [
    {
     "name": "stdout",
     "output_type": "stream",
     "text": [
      "Different types of Deserts\n"
     ]
    },
    {
     "name": "stdin",
     "output_type": "stream",
     "text": [
      "Enter any value from 1 to 4:  1\n"
     ]
    },
    {
     "name": "stdout",
     "output_type": "stream",
     "text": [
      "Available cakes are:\n",
      "cheese cake-100Rs\n",
      "pineapple cake-150rs\n",
      "strawberry cake-130rs\n",
      "fruit cake 90 rs\n",
      "chocolate cake-250rs\n",
      "vanilla cake- 90rs\n",
      "Click on below mentioned link for viewing the cakes\n",
      "https://whyzee.com.sg/wp-content/uploads/2022/02/image001.jpg\n"
     ]
    }
   ],
   "source": [
    "r.deserts()  # Objects of Deserts"
   ]
  },
  {
   "cell_type": "markdown",
   "id": "f621cf3e-c2bb-4eed-8137-a35550c5a272",
   "metadata": {},
   "source": [
    "List of Main Course"
   ]
  },
  {
   "cell_type": "code",
   "execution_count": 24,
   "id": "79d83a0a-8dd8-4c84-b1f4-71c864be4267",
   "metadata": {},
   "outputs": [
    {
     "name": "stdout",
     "output_type": "stream",
     "text": [
      "Main Course\n"
     ]
    },
    {
     "name": "stdin",
     "output_type": "stream",
     "text": [
      "Enter any value from 1 to 5: 2\n"
     ]
    },
    {
     "name": "stdout",
     "output_type": "stream",
     "text": [
      "Different Types of Beefs are:\n",
      "chuck-130rs\n",
      "rib-150rs\n",
      "loin-110rs\n",
      "round-70rs\n",
      "flank-80rs\n",
      "plate-90rs\n",
      "brisket-140rs\n",
      "shank-190rs\n",
      "Click on the below mentioned link for viewing the beefs:\n",
      "https://embed.widencdn.net/img/beef/lwh0bfs3nr/1120x840px/Butcher%201026.jpg?keep=c&u=nvwl20\n"
     ]
    }
   ],
   "source": [
    "r.main_course() # Object creation of main course"
   ]
  },
  {
   "cell_type": "code",
   "execution_count": null,
   "id": "9213e737-ba5e-4b43-a4aa-7a5d3dcc67d2",
   "metadata": {},
   "outputs": [],
   "source": []
  }
 ],
 "metadata": {
  "kernelspec": {
   "display_name": "Python 3 [3.10]",
   "language": "python",
   "name": "python3"
  },
  "language_info": {
   "codemirror_mode": {
    "name": "ipython",
    "version": 3
   },
   "file_extension": ".py",
   "mimetype": "text/x-python",
   "name": "python",
   "nbconvert_exporter": "python",
   "pygments_lexer": "ipython3",
   "version": "3.10.2"
  }
 },
 "nbformat": 4,
 "nbformat_minor": 5
}
